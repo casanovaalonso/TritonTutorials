{
  "nbformat": 4,
  "nbformat_minor": 0,
  "metadata": {
    "colab": {
      "provenance": [],
      "gpuType": "T4",
      "authorship_tag": "ABX9TyNBaSezq2dh3sJIekxjRsb+",
      "include_colab_link": true
    },
    "kernelspec": {
      "name": "python3",
      "display_name": "Python 3"
    },
    "language_info": {
      "name": "python"
    },
    "accelerator": "GPU"
  },
  "cells": [
    {
      "cell_type": "markdown",
      "metadata": {
        "id": "view-in-github",
        "colab_type": "text"
      },
      "source": [
        "<a href=\"https://colab.research.google.com/github/casanovaalonso/TritonTutorials/blob/main/05_triton_Johnson_Lindenstrauss.ipynb\" target=\"_parent\"><img src=\"https://colab.research.google.com/assets/colab-badge.svg\" alt=\"Open In Colab\"/></a>"
      ]
    },
    {
      "cell_type": "code",
      "execution_count": 2,
      "metadata": {
        "colab": {
          "base_uri": "https://localhost:8080/"
        },
        "id": "ikAmCKYz9yjB",
        "outputId": "e42a1ade-415a-4e6d-9681-28e94c138e31"
      },
      "outputs": [
        {
          "output_type": "stream",
          "name": "stdout",
          "text": [
            "Requirement already satisfied: torch in /usr/local/lib/python3.10/dist-packages (2.5.1+cu121)\n",
            "Requirement already satisfied: filelock in /usr/local/lib/python3.10/dist-packages (from torch) (3.16.1)\n",
            "Requirement already satisfied: typing-extensions>=4.8.0 in /usr/local/lib/python3.10/dist-packages (from torch) (4.12.2)\n",
            "Requirement already satisfied: networkx in /usr/local/lib/python3.10/dist-packages (from torch) (3.4.2)\n",
            "Requirement already satisfied: jinja2 in /usr/local/lib/python3.10/dist-packages (from torch) (3.1.4)\n",
            "Requirement already satisfied: fsspec in /usr/local/lib/python3.10/dist-packages (from torch) (2024.10.0)\n",
            "Requirement already satisfied: sympy==1.13.1 in /usr/local/lib/python3.10/dist-packages (from torch) (1.13.1)\n",
            "Requirement already satisfied: mpmath<1.4,>=1.1.0 in /usr/local/lib/python3.10/dist-packages (from sympy==1.13.1->torch) (1.3.0)\n",
            "Requirement already satisfied: MarkupSafe>=2.0 in /usr/local/lib/python3.10/dist-packages (from jinja2->torch) (3.0.2)\n",
            "Collecting triton\n",
            "  Downloading triton-3.1.0-cp310-cp310-manylinux_2_17_x86_64.manylinux2014_x86_64.whl.metadata (1.3 kB)\n",
            "Requirement already satisfied: filelock in /usr/local/lib/python3.10/dist-packages (from triton) (3.16.1)\n",
            "Downloading triton-3.1.0-cp310-cp310-manylinux_2_17_x86_64.manylinux2014_x86_64.whl (209.5 MB)\n",
            "\u001b[2K   \u001b[90m━━━━━━━━━━━━━━━━━━━━━━━━━━━━━━━━━━━━━━━━\u001b[0m \u001b[32m209.5/209.5 MB\u001b[0m \u001b[31m6.2 MB/s\u001b[0m eta \u001b[36m0:00:00\u001b[0m\n",
            "\u001b[?25hInstalling collected packages: triton\n",
            "Successfully installed triton-3.1.0\n"
          ]
        }
      ],
      "source": [
        "!pip install torch\n",
        "!pip install triton"
      ]
    },
    {
      "cell_type": "code",
      "source": [
        "import torch\n",
        "\n",
        "import triton\n",
        "import triton.language as tl\n",
        "from triton.runtime import driver"
      ],
      "metadata": {
        "id": "byPzr4RV-By0"
      },
      "execution_count": 3,
      "outputs": []
    },
    {
      "cell_type": "code",
      "source": [
        "DEVICE = torch.device(f\"cuda:{torch.cuda.current_device()}\")"
      ],
      "metadata": {
        "id": "WeoqTtDF-G7M"
      },
      "execution_count": 7,
      "outputs": []
    },
    {
      "cell_type": "markdown",
      "source": [
        "## Sparse Johnson-Lindenstrauss Transform (SJLDT)\n",
        "\n",
        "The **Sparse Johnson-Lindenstrauss Transform (SJLDT)** is a technique used to reduce the dimensionality of high-dimensional data while approximately preserving pairwise distances. It works by multiplying the data matrix with a sparse random matrix, which makes it more memory-efficient and faster compared to the dense version of the **Johnson-Lindenstrauss Transform (JLT)**.\n",
        "\n",
        "### Key Steps:\n",
        "\n",
        "1. **Original Data**:\n",
        "   Let $ X = \\{x_1, x_2, \\dots, x_n\\} $ be a set of $ n $ data points, where each point $ x_i \\in \\mathbb{R}^d $.\n",
        "\n",
        "2. **Target Dimension**:\n",
        "   We want to reduce the data to a lower dimension $ k $, where $ k \\ll d $.\n",
        "\n",
        "3. **Sparse Random Matrix**:\n",
        "   Construct a sparse random matrix $ \\mathbf{A} \\in \\mathbb{R}^{k \\times d} $ to project the data into a lower-dimensional space. The entries of $ \\mathbf{A} $ are mostly zeros, and the non-zero entries are randomly chosen from a distribution (e.g., Gaussian or $ \\pm 1 $):\n",
        "\n",
        "   $$\n",
        "   A_{ij} \\sim \\text{Bernoulli}(p) \\cdot \\mathcal{N}(0, \\sigma^2)\n",
        "   $$\n",
        "\n",
        "4. **Projection**:\n",
        "   The projection of each data point $ x_i $ is given by:\n",
        "\n",
        "   $$\n",
        "   \\hat{x}_i = \\mathbf{A} x_i\n",
        "   $$\n",
        "\n",
        "5. **Distance Preservation**:\n",
        "   The SJLDT approximately preserves the pairwise distances between points:\n",
        "\n",
        "   $$\n",
        "   \\| \\mathbf{A} x_i - \\mathbf{A} x_j \\|^2 \\approx \\| x_i - x_j \\|^2\n",
        "   $$\n",
        "\n",
        "   This approximation holds with high probability.\n",
        "\n",
        "6. **Result**:\n",
        "   After projection, the data $ X $ is now represented in a lower-dimensional space $ \\hat{X} = \\{ \\hat{x}_1, \\hat{x}_2, \\dots, \\hat{x}_n \\} \\in \\mathbb{R}^k $.\n",
        "\n"
      ],
      "metadata": {
        "id": "IRfQpKiN-qke"
      }
    },
    {
      "cell_type": "code",
      "source": [
        "@triton.jit\n",
        "def sparse_jldt_kernel(\n",
        "    input_data_ptr,\n",
        "    sparse_matrix_indices_ptr,\n",
        "    sparse_matrix_values_ptr,\n",
        "    output_data_ptr,\n",
        "    num_input_elements,\n",
        "    output_dim,\n",
        "    input_dim,\n",
        "    block_size: tl.constexpr,\n",
        "):\n",
        "    program_id = tl.program_id(axis=0)\n",
        "    block_start_index = program_id * block_size\n",
        "    offsets = block_start_index + tl.arange(0, block_size)\n",
        "    mask = offsets < num_input_elements\n",
        "    input_data = tl.load(input_data_ptr + offsets, mask=mask)\n",
        "    output_data = tl.zeros((output_dim,), dtype=tl.float32)\n",
        "    for i in range(output_dim):\n",
        "        for j in range(input_dim):\n",
        "            idx = tl.load(sparse_matrix_indices_ptr + i * input_dim + j)\n",
        "            value = tl.load(sparse_matrix_values_ptr + i * input_dim + j)\n",
        "            if idx != 0:\n",
        "                output_data[i] += value * input_data[j]\n",
        "    tl.store(output_data_ptr + offsets, output_data, mask=mask)\n",
        "\n",
        "\n",
        "def sparse_jldt(input_data, sparse_matrix_indices, sparse_matrix_values, output_dim):\n",
        "    num_input_elements, input_dim = input_data.shape\n",
        "    assert sparse_matrix_indices.shape == (output_dim, input_dim), \\\n",
        "        f\"Shape mismatch: expected (output_dim, input_dim) for indices, got {sparse_matrix_indices.shape}\"\n",
        "    assert sparse_matrix_values.shape == (output_dim, input_dim), \\\n",
        "        f\"Shape mismatch: expected (output_dim, input_dim) for values, got {sparse_matrix_values.shape}\"\n",
        "    output_data = torch.empty((num_input_elements, output_dim), device=input_data.device, dtype=torch.float32)\n",
        "    grid = lambda meta: (triton.cdiv(num_input_elements, META['BLOCK_SIZE']),)\n",
        "    sparse_jldt_kernel[grid](\n",
        "        input_data, sparse_matrix_indices, sparse_matrix_values, output_data,\n",
        "        num_input_elements, output_dim, input_dim, BLOCK_SIZE=128\n",
        "    )\n",
        "\n",
        "    return output_data"
      ],
      "metadata": {
        "id": "NYTkxiFx-I-e"
      },
      "execution_count": null,
      "outputs": []
    },
    {
      "cell_type": "code",
      "source": [
        "num_input_elements, input_dim, output_dim = 1024, 2048, 512  # Example dimensions\n",
        "input_data = torch.randn(num_input_elements, input_dim, device=\"cuda\")\n",
        "sparse_matrix_values = torch.randn(output_dim, input_dim, device=\"cuda\") * 0.001  # Small values for sparsity\n",
        "sparse_matrix_indices = (torch.rand(output_dim, input_dim, device=\"cuda\") > 0.8).int()  # 80% sparsity\n",
        "projected_data = sparse_jldt(input_data, sparse_matrix_indices, sparse_matrix_values, output_dim)\n",
        "\n",
        "print(f\"Original Input Data shape: {input_data.shape}\")\n",
        "print(f\"Projected Data shape: {projected_data.shape}\")\n",
        "\n"
      ],
      "metadata": {
        "id": "P3Q2fLvkDezI"
      },
      "execution_count": null,
      "outputs": []
    }
  ]
}